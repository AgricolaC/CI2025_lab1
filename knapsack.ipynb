{
 "cells": [
  {
   "cell_type": "markdown",
   "id": "11fa4375",
   "metadata": {},
   "source": [
    "Copyright **`(c)`** 2025 Giovanni Squillero `<giovanni.squillero@polito.it>`  \n",
    "[`https://github.com/squillero/computational-intelligence`](https://github.com/squillero/computational-intelligence)  \n",
    "Free under certain conditions — see the [`license`](https://github.com/squillero/computational-intelligence/blob/master/LICENSE.md) for details.  "
   ]
  },
  {
   "cell_type": "code",
   "execution_count": 26,
   "id": "c0882a9f",
   "metadata": {},
   "outputs": [],
   "source": [
    "import numpy as np"
   ]
  },
  {
   "cell_type": "code",
   "execution_count": 42,
   "id": "3adb670e",
   "metadata": {},
   "outputs": [],
   "source": [
    "NUM_KNAPSACKS = 2\n",
    "NUM_ITEMS = 10\n",
    "NUM_DIMENSIONS = 2"
   ]
  },
  {
   "cell_type": "code",
   "execution_count": 43,
   "id": "2db51e99",
   "metadata": {},
   "outputs": [],
   "source": [
    "VALUES = np.random.randint(0, 100, size=NUM_ITEMS)\n",
    "WEIGHTS = np.random.randint(0, 100, size=(NUM_ITEMS, NUM_DIMENSIONS))\n",
    "CONSTRAINTS = np.random.randint(0, 100 * NUM_ITEMS // NUM_KNAPSACKS, size=NUM_DIMENSIONS)"
   ]
  },
  {
   "cell_type": "code",
   "execution_count": 44,
   "id": "2abb812d",
   "metadata": {},
   "outputs": [
    {
     "data": {
      "text/plain": [
       "array([476, 303])"
      ]
     },
     "execution_count": 44,
     "metadata": {},
     "output_type": "execute_result"
    }
   ],
   "source": [
    "CONSTRAINTS"
   ]
  },
  {
   "cell_type": "code",
   "execution_count": 45,
   "id": "dade6b3c",
   "metadata": {},
   "outputs": [],
   "source": [
    "# A random solution\n",
    "solution = np.array(\n",
    "    [np.random.random(NUM_ITEMS) < 0.5 for _ in range(NUM_KNAPSACKS)], dtype=bool\n",
    ")"
   ]
  },
  {
   "cell_type": "code",
   "execution_count": 46,
   "id": "f21d5749",
   "metadata": {},
   "outputs": [
    {
     "data": {
      "text/plain": [
       "array([[ True, False,  True,  True,  True, False,  True, False,  True,\n",
       "         True],\n",
       "       [ True, False, False, False, False, False, False, False,  True,\n",
       "        False]])"
      ]
     },
     "execution_count": 46,
     "metadata": {},
     "output_type": "execute_result"
    }
   ],
   "source": [
    "solution"
   ]
  },
  {
   "cell_type": "code",
   "execution_count": 47,
   "id": "7de9a3fb",
   "metadata": {},
   "outputs": [
    {
     "data": {
      "text/plain": [
       "False"
      ]
     },
     "execution_count": 47,
     "metadata": {},
     "output_type": "execute_result"
    }
   ],
   "source": [
    "# Check that the same object does not appear in multiple knapsacks\n",
    "np.all(solution.sum(axis=0) <= 1)"
   ]
  },
  {
   "cell_type": "code",
   "execution_count": 48,
   "id": "54d5b5ee",
   "metadata": {},
   "outputs": [
    {
     "data": {
      "text/plain": [
       "False"
      ]
     },
     "execution_count": 48,
     "metadata": {},
     "output_type": "execute_result"
    }
   ],
   "source": [
    "# Check if the solution is valid\n",
    "all_knapsacks = np.any(solution, axis=0)\n",
    "np.all(WEIGHTS[all_knapsacks].sum(axis=0) < CONSTRAINTS)"
   ]
  },
  {
   "cell_type": "markdown",
   "id": "9fd3ff7c",
   "metadata": {},
   "source": [
    "## HELPER FUNCTIONS"
   ]
  },
  {
   "cell_type": "code",
   "execution_count": 49,
   "id": "f95ec136",
   "metadata": {},
   "outputs": [],
   "source": [
    "def total_value(solution):\n",
    "    picked_items = np.any(solution, axis=0)\n",
    "    return VALUES[picked_items].sum()"
   ]
  },
  {
   "cell_type": "code",
   "execution_count": 50,
   "id": "a52b67a5",
   "metadata": {},
   "outputs": [
    {
     "data": {
      "text/plain": [
       "422"
      ]
     },
     "execution_count": 50,
     "metadata": {},
     "output_type": "execute_result"
    }
   ],
   "source": [
    "total_value(solution)"
   ]
  },
  {
   "cell_type": "code",
   "execution_count": 51,
   "id": "2fa0da16",
   "metadata": {},
   "outputs": [],
   "source": [
    "def is_feasible_per_knapsack(solution, weights, constraints):\n",
    "    \"\"\"\n",
    "    Returns True if every knapsack k satisfies that: sum of the weights in k <= constraints.\n",
    "    \"\"\"\n",
    "    K, N = solution.shape # number of knapsacks, number of items\n",
    "    for k in range(K):\n",
    "        items_k = solution[k]\n",
    "        if items_k.any():\n",
    "            load_k = weights[items_k].sum(axis=0)          # total load on the knapsack, shape (D,)\n",
    "            if np.any(load_k > constraints):\n",
    "                return False\n",
    "    # also enforce at most one knapsack per item: \n",
    "    if np.any(solution.sum(axis=0) > 1):\n",
    "        return False\n",
    "    return True"
   ]
  },
  {
   "cell_type": "code",
   "execution_count": 52,
   "id": "826a57d3",
   "metadata": {},
   "outputs": [
    {
     "data": {
      "text/plain": [
       "False"
      ]
     },
     "execution_count": 52,
     "metadata": {},
     "output_type": "execute_result"
    }
   ],
   "source": [
    "# test random solution\n",
    "is_feasible_per_knapsack(solution, WEIGHTS, CONSTRAINTS)"
   ]
  },
  {
   "cell_type": "code",
   "execution_count": 55,
   "id": "42b3a39b",
   "metadata": {},
   "outputs": [],
   "source": [
    "NUM_KNAPSACKS = 2\n",
    "NUM_ITEMS = 4\n",
    "NUM_DIMENSIONS = 2\n",
    "\n",
    "test_weights = np.array([\n",
    "    [3, 5],\n",
    "    [7, 1],   \n",
    "    \n",
    "    [4, 2],  \n",
    "    [2, 6]   \n",
    "])\n",
    "test_constraints = np.array([10, 10])\n",
    "\n",
    "# Suppose each knapsack has 2 items\n",
    "test_solution = np.array([\n",
    "    [1, 1, 0, 0],  \n",
    "    [0, 0, 1, 1]   \n",
    "], dtype=bool)\n"
   ]
  },
  {
   "cell_type": "code",
   "execution_count": 56,
   "id": "58555b44",
   "metadata": {},
   "outputs": [
    {
     "data": {
      "text/plain": [
       "True"
      ]
     },
     "execution_count": 56,
     "metadata": {},
     "output_type": "execute_result"
    }
   ],
   "source": [
    "# test valid solution\n",
    "is_feasible_per_knapsack(test_solution, test_weights, test_constraints)"
   ]
  },
  {
   "cell_type": "markdown",
   "id": "8e0e0673",
   "metadata": {},
   "source": [
    "## TEST PROBLEMS"
   ]
  },
  {
   "cell_type": "markdown",
   "id": "e2eb9b8b",
   "metadata": {},
   "source": []
  },
  {
   "cell_type": "code",
   "execution_count": 23,
   "id": "5595db9c",
   "metadata": {},
   "outputs": [],
   "source": [
    "# Problem 1:\n",
    "rng = np.random.default_rng(seed=42)\n",
    "NUM_KNAPSACKS = 3\n",
    "NUM_ITEMS = 20\n",
    "NUM_DIMENSIONS = 2\n",
    "VALUES = rng.integers(0, 100, size=NUM_ITEMS)\n",
    "WEIGHTS = rng.integers(0, 100, size=(NUM_ITEMS, NUM_DIMENSIONS))\n",
    "CONSTRAINTS = rng.integers(0, 100 * NUM_ITEMS // NUM_KNAPSACKS, size=NUM_DIMENSIONS)"
   ]
  },
  {
   "cell_type": "code",
   "execution_count": 68,
   "id": "9eed08a0",
   "metadata": {},
   "outputs": [],
   "source": [
    "# Problem 2:\n",
    "rng = np.random.default_rng(seed=42)\n",
    "NUM_KNAPSACKS = 10\n",
    "NUM_ITEMS = 100\n",
    "NUM_DIMENSIONS = 10\n",
    "VALUES = rng.integers(0, 1000, size=NUM_ITEMS)\n",
    "WEIGHTS = rng.integers(0, 1000, size=(NUM_ITEMS, NUM_DIMENSIONS))\n",
    "CONSTRAINTS = rng.integers(1000 * 2, 1000 * NUM_ITEMS // NUM_KNAPSACKS, size=NUM_DIMENSIONS)"
   ]
  },
  {
   "cell_type": "code",
   "execution_count": 69,
   "id": "117380d6",
   "metadata": {},
   "outputs": [],
   "source": [
    "# Problem 3:\n",
    "rng = np.random.default_rng(seed=42)\n",
    "NUM_KNAPSACKS = 100\n",
    "NUM_ITEMS = 5000\n",
    "NUM_DIMENSIONS = 100\n",
    "VALUES = rng.integers(0, 1000, size=NUM_ITEMS)\n",
    "WEIGHTS = rng.integers(0, 1000, size=(NUM_ITEMS, NUM_DIMENSIONS))\n",
    "CONSTRAINTS = rng.integers(1000 * 10, 1000 * 2 * NUM_ITEMS // NUM_KNAPSACKS, size=NUM_DIMENSIONS)"
   ]
  },
  {
   "cell_type": "code",
   "execution_count": null,
   "id": "2bbe1e02",
   "metadata": {},
   "outputs": [],
   "source": []
  }
 ],
 "metadata": {
  "kernelspec": {
   "display_name": "base",
   "language": "python",
   "name": "python3"
  },
  "language_info": {
   "codemirror_mode": {
    "name": "ipython",
    "version": 3
   },
   "file_extension": ".py",
   "mimetype": "text/x-python",
   "name": "python",
   "nbconvert_exporter": "python",
   "pygments_lexer": "ipython3",
   "version": "3.12.2"
  }
 },
 "nbformat": 4,
 "nbformat_minor": 5
}
